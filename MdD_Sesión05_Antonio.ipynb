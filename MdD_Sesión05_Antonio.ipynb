{
  "nbformat": 4,
  "nbformat_minor": 0,
  "metadata": {
    "colab": {
      "provenance": [],
      "toc_visible": true,
      "authorship_tag": "ABX9TyNfsHzCNpZbh/Ug0GmN9AgN",
      "include_colab_link": true
    },
    "kernelspec": {
      "name": "python3",
      "display_name": "Python 3"
    },
    "language_info": {
      "name": "python"
    }
  },
  "cells": [
    {
      "cell_type": "markdown",
      "metadata": {
        "id": "view-in-github",
        "colab_type": "text"
      },
      "source": [
        "<a href=\"https://colab.research.google.com/github/TonioRodriguez/Data-Mining-05/blob/main/MdD_Sesi%C3%B3n05_Antonio.ipynb\" target=\"_parent\"><img src=\"https://colab.research.google.com/assets/colab-badge.svg\" alt=\"Open In Colab\"/></a>"
      ]
    },
    {
      "cell_type": "markdown",
      "source": [
        "# <font color = #009b7d> Minería de Datos </font>\n",
        "## <font color = #009b7d> Sesión 05: Python - While </font>\n",
        "### <font color = #009b7d>Prof: Vilchis García Juan Ignacio </font>\n",
        "#### <font color = #009b7d>Alumno: Rodríguez Esquivel Luis Antonio </font>\n",
        "#### <font color = #009b7d>Fecha: Miercoles 03 de septiembre de 2025 </font>"
      ],
      "metadata": {
        "id": "7kl6qjwr2V_F"
      }
    },
    {
      "cell_type": "markdown",
      "source": [
        "##Condicionales- While"
      ],
      "metadata": {
        "id": "MN76OhPaAcuq"
      }
    },
    {
      "cell_type": "markdown",
      "source": [
        "###Ejercicio resuelto 5.01\n",
        "Elaborar un programa con el funcionamiento básico del while."
      ],
      "metadata": {
        "id": "udPWMpCq2-ft"
      }
    },
    {
      "cell_type": "code",
      "execution_count": null,
      "metadata": {
        "id": "R-rR6s3u1rrh",
        "colab": {
          "base_uri": "https://localhost:8080/"
        },
        "outputId": "cc77d7fd-5064-4def-c82f-199dd858c477"
      },
      "outputs": [
        {
          "output_type": "stream",
          "name": "stdout",
          "text": [
            "0\n",
            "1\n",
            "2\n",
            "3\n",
            "4\n",
            "5\n",
            "6\n",
            "7\n",
            "8\n",
            "9\n",
            "10\n"
          ]
        }
      ],
      "source": [
        "#Ejercicio Resuelto 5.01\n",
        "inicio = 0\n",
        "fin = 10\n",
        "while(inicio <= fin):\n",
        "  print(inicio)\n",
        "  inicio = inicio + 1"
      ]
    },
    {
      "cell_type": "markdown",
      "source": [
        "##Ejercicios Propuestos"
      ],
      "metadata": {
        "id": "EtZ6H0M-5aaj"
      }
    },
    {
      "cell_type": "markdown",
      "source": [
        "###Ejercicio propuesto 5.01\n",
        "5.01. Elaborar un programa que imprima en pantalla los números del 1 al 100."
      ],
      "metadata": {
        "id": "W7j9XZGf5nhw"
      }
    },
    {
      "cell_type": "code",
      "source": [
        "#Ejercico propuesto 5.01\n",
        "print('Números 1-100')\n",
        "print('_'*100)\n",
        "numero = 1\n",
        "while(numero<=100):\n",
        "  print(numero)\n",
        "  numero = numero + 1"
      ],
      "metadata": {
        "colab": {
          "base_uri": "https://localhost:8080/"
        },
        "collapsed": true,
        "id": "UMvVuAyX5Vx2",
        "outputId": "5113e387-536e-42fd-c978-bcf8c4a03a0b"
      },
      "execution_count": null,
      "outputs": [
        {
          "output_type": "stream",
          "name": "stdout",
          "text": [
            "Números 1-100\n",
            "____________________________________________________________________________________________________\n",
            "1\n",
            "2\n",
            "3\n",
            "4\n",
            "5\n",
            "6\n",
            "7\n",
            "8\n",
            "9\n",
            "10\n",
            "11\n",
            "12\n",
            "13\n",
            "14\n",
            "15\n",
            "16\n",
            "17\n",
            "18\n",
            "19\n",
            "20\n",
            "21\n",
            "22\n",
            "23\n",
            "24\n",
            "25\n",
            "26\n",
            "27\n",
            "28\n",
            "29\n",
            "30\n",
            "31\n",
            "32\n",
            "33\n",
            "34\n",
            "35\n",
            "36\n",
            "37\n",
            "38\n",
            "39\n",
            "40\n",
            "41\n",
            "42\n",
            "43\n",
            "44\n",
            "45\n",
            "46\n",
            "47\n",
            "48\n",
            "49\n",
            "50\n",
            "51\n",
            "52\n",
            "53\n",
            "54\n",
            "55\n",
            "56\n",
            "57\n",
            "58\n",
            "59\n",
            "60\n",
            "61\n",
            "62\n",
            "63\n",
            "64\n",
            "65\n",
            "66\n",
            "67\n",
            "68\n",
            "69\n",
            "70\n",
            "71\n",
            "72\n",
            "73\n",
            "74\n",
            "75\n",
            "76\n",
            "77\n",
            "78\n",
            "79\n",
            "80\n",
            "81\n",
            "82\n",
            "83\n",
            "84\n",
            "85\n",
            "86\n",
            "87\n",
            "88\n",
            "89\n",
            "90\n",
            "91\n",
            "92\n",
            "93\n",
            "94\n",
            "95\n",
            "96\n",
            "97\n",
            "98\n",
            "99\n",
            "100\n"
          ]
        }
      ]
    },
    {
      "cell_type": "markdown",
      "source": [
        "###Ejercicio propuesto 5.02\n",
        "'Elaborar un programa que imprima en pantalla los números del 50 al 100."
      ],
      "metadata": {
        "id": "ULk-POoq52Mh"
      }
    },
    {
      "cell_type": "code",
      "source": [
        "print('Números 50-100')\n",
        "print('_'*100)\n",
        "numero = 50\n",
        "while(numero <= 100):\n",
        "  print(numero)\n",
        "  numero = numero + 1"
      ],
      "metadata": {
        "colab": {
          "base_uri": "https://localhost:8080/"
        },
        "collapsed": true,
        "id": "aXbvgY-j57_b",
        "outputId": "f2cd0f34-cda3-4d57-c772-e4e50617eeea"
      },
      "execution_count": null,
      "outputs": [
        {
          "output_type": "stream",
          "name": "stdout",
          "text": [
            "Números 50-100\n",
            "____________________________________________________________________________________________________\n",
            "50\n",
            "51\n",
            "52\n",
            "53\n",
            "54\n",
            "55\n",
            "56\n",
            "57\n",
            "58\n",
            "59\n",
            "60\n",
            "61\n",
            "62\n",
            "63\n",
            "64\n",
            "65\n",
            "66\n",
            "67\n",
            "68\n",
            "69\n",
            "70\n",
            "71\n",
            "72\n",
            "73\n",
            "74\n",
            "75\n",
            "76\n",
            "77\n",
            "78\n",
            "79\n",
            "80\n",
            "81\n",
            "82\n",
            "83\n",
            "84\n",
            "85\n",
            "86\n",
            "87\n",
            "88\n",
            "89\n",
            "90\n",
            "91\n",
            "92\n",
            "93\n",
            "94\n",
            "95\n",
            "96\n",
            "97\n",
            "98\n",
            "99\n",
            "100\n"
          ]
        }
      ]
    },
    {
      "cell_type": "markdown",
      "source": [
        "###Ejercicio propuesto 5.03\n",
        "Elaborar un programa que imprima en pantalla los números del -50 al 0."
      ],
      "metadata": {
        "id": "9VVfESdn630A"
      }
    },
    {
      "cell_type": "code",
      "source": [
        "#Ejercicio propuesto 5.03"
      ],
      "metadata": {
        "id": "GVap9KPf690u"
      },
      "execution_count": null,
      "outputs": []
    },
    {
      "cell_type": "code",
      "source": [
        "print('Números -50-0')\n",
        "print('_'*100)\n",
        "numero = -50\n",
        "while(numero <= 0):\n",
        "  print(numero)\n",
        "  numero = numero + 1"
      ],
      "metadata": {
        "colab": {
          "base_uri": "https://localhost:8080/"
        },
        "collapsed": true,
        "id": "dT06wTBP7AeA",
        "outputId": "cc35a6c5-2043-4717-fd9f-b46842cbfd82"
      },
      "execution_count": null,
      "outputs": [
        {
          "output_type": "stream",
          "name": "stdout",
          "text": [
            "Números -50-0\n",
            "____________________________________________________________________________________________________\n",
            "-50\n",
            "-49\n",
            "-48\n",
            "-47\n",
            "-46\n",
            "-45\n",
            "-44\n",
            "-43\n",
            "-42\n",
            "-41\n",
            "-40\n",
            "-39\n",
            "-38\n",
            "-37\n",
            "-36\n",
            "-35\n",
            "-34\n",
            "-33\n",
            "-32\n",
            "-31\n",
            "-30\n",
            "-29\n",
            "-28\n",
            "-27\n",
            "-26\n",
            "-25\n",
            "-24\n",
            "-23\n",
            "-22\n",
            "-21\n",
            "-20\n",
            "-19\n",
            "-18\n",
            "-17\n",
            "-16\n",
            "-15\n",
            "-14\n",
            "-13\n",
            "-12\n",
            "-11\n",
            "-10\n",
            "-9\n",
            "-8\n",
            "-7\n",
            "-6\n",
            "-5\n",
            "-4\n",
            "-3\n",
            "-2\n",
            "-1\n",
            "0\n"
          ]
        }
      ]
    },
    {
      "cell_type": "markdown",
      "source": [
        "###Ejercicio propuesto 5.04\n",
        "Elaborar un programa que imprima los números del 1 al 50 de 2 en 2."
      ],
      "metadata": {
        "id": "xywH9mQi7SHS"
      }
    },
    {
      "cell_type": "code",
      "source": [
        "#Ejericio propuesto 5.04\n",
        "print('Números 1-50 2 en 2')\n",
        "print('_'*100)\n",
        "numero = 1\n",
        "while(numero <= 50):\n",
        "  print(numero)\n",
        "  numero = numero + 2"
      ],
      "metadata": {
        "colab": {
          "base_uri": "https://localhost:8080/"
        },
        "collapsed": true,
        "id": "P1mxZqNN7ZU0",
        "outputId": "b8982585-2ded-494f-f2d7-d5f68f7b2c49"
      },
      "execution_count": null,
      "outputs": [
        {
          "output_type": "stream",
          "name": "stdout",
          "text": [
            "Números 1-50 2 en 2\n",
            "____________________________________________________________________________________________________\n",
            "1\n",
            "3\n",
            "5\n",
            "7\n",
            "9\n",
            "11\n",
            "13\n",
            "15\n",
            "17\n",
            "19\n",
            "21\n",
            "23\n",
            "25\n",
            "27\n",
            "29\n",
            "31\n",
            "33\n",
            "35\n",
            "37\n",
            "39\n",
            "41\n",
            "43\n",
            "45\n",
            "47\n",
            "49\n"
          ]
        }
      ]
    },
    {
      "cell_type": "markdown",
      "source": [
        "##Ejercicios resueltos"
      ],
      "metadata": {
        "id": "ktJMHRFoElD9"
      }
    },
    {
      "cell_type": "markdown",
      "source": [
        "###Ejercico resuelto 5.02\n",
        "Elaborar un programa que lea un número positivo.\n",
        "\n",
        "Posteriormente pida un segundo número que sea mayor al primero.\n",
        "\n",
        "  •\tSi el segundo número es mayor al primero se imprime un mensaje que indique dicha condición.\n",
        "\n",
        "  •\tEn caso contrario se sigue pidiendo el segundo número hasta que se ingrese un número mayor el primero."
      ],
      "metadata": {
        "id": "MrDO2VBQ8vBU"
      }
    },
    {
      "cell_type": "code",
      "source": [
        "#Ejercicio resuelto 5.02\n",
        "print('Número positivo')\n",
        "print('_'*50)\n",
        "n1 = int(input('Ingresa un número positivo: '))\n",
        "if(n1>0):\n",
        "  n2 = 0\n",
        "  while(n1 >= n2):\n",
        "    n2 = int(input(f'Ingresa un numero mayor que {n1}: '))\n",
        "  print('_'*50)\n",
        "  print(f'Correcto {n2} es mayor que {n1}')\n",
        "else:\n",
        "  print('_'*50)\n",
        "  print(f'Incorrecto, {n1} no es positivo... Hasta la próxima!!!')"
      ],
      "metadata": {
        "colab": {
          "base_uri": "https://localhost:8080/"
        },
        "id": "DR1WZ_PE83g-",
        "outputId": "4fa0bae1-f954-49e2-8cdf-5714a9e29224"
      },
      "execution_count": null,
      "outputs": [
        {
          "output_type": "stream",
          "name": "stdout",
          "text": [
            "Número positivo\n",
            "__________________________________________________\n",
            "Ingresa un número positivo: 8\n",
            "Ingresa un numero mayor que 8: 6\n",
            "Ingresa un numero mayor que 8: 5\n",
            "Ingresa un numero mayor que 8: 4\n",
            "Ingresa un numero mayor que 8: 9\n",
            "__________________________________________________\n",
            "Correcto 9 es mayor que 8\n"
          ]
        }
      ]
    },
    {
      "cell_type": "markdown",
      "source": [
        "### Ejercicio Resuelto 5.03\n",
        "\n",
        "Elaborar un programa que pregunte si se desea procesar una tabla de multiplicar (S/N):\n",
        "\n",
        "•\tSi la respuesta es S pide un número e imprime la tabla de multiplicar de ese número (del 1 al 10).\n",
        "\n",
        "•\tSi la respuesta es N imprime un mensaje de “Adiós” y termina el programa.\n"
      ],
      "metadata": {
        "id": "SgsC95SmAD6B"
      }
    },
    {
      "cell_type": "code",
      "source": [
        "#Ejercicio resuelto 5.03\n",
        "print('Tabla de multiplicar (S/N)')\n",
        "print('_'*50)\n",
        "opcion = input('¿Desea procesar una tabla de multiplicar (S/N)?: ')\n",
        "opcion = opcion.upper()\n",
        "while(opcion == 'S'):\n",
        "  n1 = int(input('¿De qué número quieres obtener su tabla de multiplicar?: '))\n",
        "  control = 1\n",
        "  print('_'*50)\n",
        "  while(control <= 10):\n",
        "    print(f'{n1} x {control} = {n1 * control}')\n",
        "    control = control + nonlocal1\n",
        "  opcion = input('¿Desea procesar otra tabla de multiplicar (S/N)?: ')\n",
        "  opcion = opcion.upper()\n",
        "print('_'*40)\n",
        "print('... Hasta la próxima!!!')"
      ],
      "metadata": {
        "colab": {
          "base_uri": "https://localhost:8080/"
        },
        "id": "mBX63MDo-Rnc",
        "outputId": "5f68b064-9a6d-4e90-8456-c3c13aa59a5b"
      },
      "execution_count": null,
      "outputs": [
        {
          "output_type": "stream",
          "name": "stdout",
          "text": [
            "Tabla de multiplicar (S/N)\n",
            "__________________________________________________\n",
            "¿Desea procesar una tabla de multiplicar (S/N)?: s\n",
            "¿De qué número quieres obtener su tabla de multiplicar?: 9\n",
            "__________________________________________________\n",
            "9 x 1 = 9\n",
            "9 x 2 = 18\n",
            "9 x 3 = 27\n",
            "9 x 4 = 36\n",
            "9 x 5 = 45\n",
            "9 x 6 = 54\n",
            "9 x 7 = 63\n",
            "9 x 8 = 72\n",
            "9 x 9 = 81\n",
            "9 x 10 = 90\n",
            "¿Desea procesar otra tabla de multiplicar (S/N)?: 8\n",
            "________________________________________\n",
            "... Hasta la próxima!!!\n"
          ]
        }
      ]
    },
    {
      "cell_type": "markdown",
      "source": [
        "##Contadores y acumuladores\n"
      ],
      "metadata": {
        "id": "Z9AKYUePFiOj"
      }
    },
    {
      "cell_type": "markdown",
      "source": [
        "###Contador"
      ],
      "metadata": {
        "id": "qRi2Pz8wF_mo"
      }
    },
    {
      "cell_type": "code",
      "source": [
        "#Contador\n",
        "print('Contador')\n",
        "contador = 0\n",
        "opcion = 'S'\n",
        "print('_'*50)\n",
        "while(opcion == 'S'):\n",
        "  n = int(input('Ingresa un número: '))\n",
        "  contador = contador + 1\n",
        "  opcion = input('¡Desea ingresa otro número (S/N)?: ')\n",
        "  opcion = opcion.upper()\n",
        "print('_'*50)\n",
        "print(f'Total de números: {contador}')\n",
        "print('... Hasta la próxima!!!')"
      ],
      "metadata": {
        "colab": {
          "base_uri": "https://localhost:8080/"
        },
        "id": "kjp5mnbqGB7-",
        "outputId": "12e9443a-4ddf-4a0d-a30e-bab1e6bf629f"
      },
      "execution_count": null,
      "outputs": [
        {
          "output_type": "stream",
          "name": "stdout",
          "text": [
            "Contador\n",
            "__________________________________________________\n",
            "Ingresa un número: 5\n",
            "¡Desea ingresa otro número (S/N)?: s\n",
            "Ingresa un número: 6\n",
            "¡Desea ingresa otro número (S/N)?: s\n",
            "Ingresa un número: 3\n",
            "¡Desea ingresa otro número (S/N)?: s\n",
            "Ingresa un número: 4\n",
            "¡Desea ingresa otro número (S/N)?: s\n",
            "Ingresa un número: 5\n",
            "¡Desea ingresa otro número (S/N)?: s\n",
            "Ingresa un número: 2\n",
            "¡Desea ingresa otro número (S/N)?: f\n",
            "__________________________________________________\n",
            "Total de números: 6\n",
            "... Hasta la próxima!!!\n"
          ]
        }
      ]
    },
    {
      "cell_type": "markdown",
      "source": [
        "###Acumulador"
      ],
      "metadata": {
        "id": "Hy2COxvGIGxk"
      }
    },
    {
      "cell_type": "code",
      "source": [
        "#Acumulador\n",
        "print('Acumulador')\n",
        "acumulador = 0\n",
        "opcion = 'S'\n",
        "print('_'*50)\n",
        "while(opcion == 'S'):\n",
        "  n = int(input('Ingresa un número: '))\n",
        "  acumulador = acumulador + n\n",
        "  opcion = input('¡Desea ingresa otro número (S/N)?: ')\n",
        "  opcion = opcion.upper()\n",
        "print('_'*50)\n",
        "print(f'Total de números: {acumulador}')\n",
        "print('... Hasta la próxima!!!')\n"
      ],
      "metadata": {
        "colab": {
          "base_uri": "https://localhost:8080/"
        },
        "id": "XIOPvyhYIOpF",
        "outputId": "c8aab627-5e3c-40dc-8641-744997eeefe9"
      },
      "execution_count": null,
      "outputs": [
        {
          "output_type": "stream",
          "name": "stdout",
          "text": [
            "Contador\n",
            "__________________________________________________\n",
            "Ingresa un número: 9\n",
            "¡Desea ingresa otro número (S/N)?: s\n",
            "Ingresa un número: 5\n",
            "¡Desea ingresa otro número (S/N)?: s\n",
            "Ingresa un número: 3\n",
            "¡Desea ingresa otro número (S/N)?: n\n",
            "__________________________________________________\n",
            "Total de números: 17\n",
            "... Hasta la próxima!!!\n"
          ]
        }
      ]
    },
    {
      "cell_type": "markdown",
      "source": [
        "### Ejercicio Resuelto 5.04\n",
        "\n",
        "Elaborar un programa que procese alumnos.\n",
        "\n",
        "  * Como entrada se pide el nombre del alumno y su calificación.\n",
        "\n",
        "  * El programa seguirá pidiendo los datos de entrada hasta que se indique lo contrario.\n",
        "\n",
        "  * Cuando no se deseen procesar más alumnos se imprimirá cuantos alumnos proceso, las calificaciones acumuladas y el promedio global de calificaciones."
      ],
      "metadata": {
        "id": "Qi8VDHSbJObZ"
      }
    },
    {
      "cell_type": "code",
      "source": [
        "#Ejercicio resuelto 5.04\n",
        "print('Programa acumulador y contador')\n",
        "print('_'*50)\n",
        "contador = 0\n",
        "acumulador = 0\n",
        "opcion = 'S'\n",
        "while(opcion == 'S'):\n",
        "  nombre = input('Ingresa nombre del alumno: ')\n",
        "  calificacion = int(input('Ingrese calificación: '))\n",
        "  print('_'*50)\n",
        "  contador = contador + 1\n",
        "  acumulador = acumulador + calificacion\n",
        "  opcion = input('¿Desea procesar otro alumno (S/N): ')\n",
        "  opcion = opcion.upper()\n",
        "  print('_'*50)\n",
        "promedio = acumulador/contador\n",
        "print('_'*50)\n",
        "print(f'Números de alumnos procesados: {contador}')\n",
        "print(f'Calificaciones acumuladas: {acumulador}')\n",
        "print(f'Promedio: {promedio}')"
      ],
      "metadata": {
        "colab": {
          "base_uri": "https://localhost:8080/"
        },
        "id": "oObvt7ybJQm8",
        "outputId": "9695113e-7d9a-40ca-c893-6a0f029928e1"
      },
      "execution_count": null,
      "outputs": [
        {
          "output_type": "stream",
          "name": "stdout",
          "text": [
            "Programa acumulador y contador\n",
            "__________________________________________________\n",
            "Ingresa nombre del alumno: joan\n",
            "Ingrese calificación: 7\n",
            "__________________________________________________\n",
            "¿Desea procesar otro alumno (S/N): s\n",
            "__________________________________________________\n",
            "Ingresa nombre del alumno: gael\n",
            "Ingrese calificación: 4\n",
            "__________________________________________________\n",
            "¿Desea procesar otro alumno (S/N): joan\n",
            "__________________________________________________\n",
            "__________________________________________________\n",
            "Números de alumnos procesados: 2\n",
            "Calificaciones acumuladas: 11\n",
            "Promedio: 5.5\n"
          ]
        }
      ]
    },
    {
      "cell_type": "markdown",
      "source": [
        "###Break"
      ],
      "metadata": {
        "id": "hZ_bu6ZqMO7o"
      }
    },
    {
      "cell_type": "code",
      "source": [
        "#break\n",
        "inicio = 0\n",
        "fin = 10\n",
        "while(inicio <= fin):\n",
        "  print(inicio)\n",
        "  inicio = inicio + 1\n",
        "  if(inicio == 7):\n",
        "    break"
      ],
      "metadata": {
        "colab": {
          "base_uri": "https://localhost:8080/"
        },
        "id": "X1n4HOiYJnwS",
        "outputId": "a08c1ebd-e769-4b90-a31e-a07dfd8ddd92"
      },
      "execution_count": null,
      "outputs": [
        {
          "output_type": "stream",
          "name": "stdout",
          "text": [
            "0\n",
            "1\n",
            "2\n",
            "3\n",
            "4\n",
            "5\n",
            "6\n"
          ]
        }
      ]
    },
    {
      "cell_type": "markdown",
      "source": [
        "###Continue"
      ],
      "metadata": {
        "id": "Ov04GDErMTpL"
      }
    },
    {
      "cell_type": "code",
      "source": [
        "#Continue\n",
        "inicio = 0\n",
        "fin = 10\n",
        "while(inicio <= fin):\n",
        "  inicio = inicio + 1\n",
        "  if(inicio == 4 or inicio == 7):\n",
        "    continue\n",
        "  print(inicio)"
      ],
      "metadata": {
        "colab": {
          "base_uri": "https://localhost:8080/"
        },
        "id": "tK3mfQ3nMTUk",
        "outputId": "7d1eb6b4-cc02-4a2d-e5ff-d0b64c19b556"
      },
      "execution_count": null,
      "outputs": [
        {
          "output_type": "stream",
          "name": "stdout",
          "text": [
            "1\n",
            "2\n",
            "3\n",
            "5\n",
            "6\n",
            "8\n",
            "9\n",
            "10\n",
            "11\n"
          ]
        }
      ]
    },
    {
      "cell_type": "markdown",
      "source": [
        "###Ejercicio resuelto 5.05\n"
      ],
      "metadata": {
        "id": "aG2YjTxpNgVX"
      }
    },
    {
      "cell_type": "code",
      "source": [
        "opcion = 0\n",
        "iterador = 0\n",
        "while(opcion != 3):\n",
        "  print(f'Bienvenido al ciclo while - iteración: {iterador}')\n",
        "  print('_'*50)\n",
        "  print('1.- Continuar ciclo')\n",
        "  print('2.- Romper ciclo')\n",
        "  print('3.- Salir del ciclo')\n",
        "  print('4.- Repetir menú')\n",
        "  print('Otro número, Rastrear')\n",
        "  print('_'*50)\n",
        "  opcion = int(input('Ingresa una opción: '))\n",
        "  if(opcion == 1):\n",
        "    print('Continuar ciclo')\n",
        "    iterador = iterador + 1\n",
        "  elif(opcion == 2):\n",
        "    print('Ciclo roto')\n",
        "    break\n",
        "  elif(opcion == 3):\n",
        "    print('Salir del programa')\n",
        "  elif(opcion == 4):\n",
        "    continue\n",
        "  else:\n",
        "    iterador = 0\n",
        "print('_'*50)\n",
        "print('Adios!!!')"
      ],
      "metadata": {
        "colab": {
          "base_uri": "https://localhost:8080/"
        },
        "id": "4H1cNENPNssF",
        "outputId": "16f9ada8-07d3-4e5c-dad0-3b5fa607216a"
      },
      "execution_count": null,
      "outputs": [
        {
          "output_type": "stream",
          "name": "stdout",
          "text": [
            "Bienvenido al ciclo while - iteración: 0\n",
            "__________________________________________________\n",
            "1.- Continuar ciclo\n",
            "2.- Romper ciclo\n",
            "3.- Salir del ciclo\n",
            "4.- Repetir menú\n",
            "Otro número, Rastrear\n",
            "__________________________________________________\n",
            "Ingresa una opción: 1\n",
            "Continuar ciclo\n",
            "Bienvenido al ciclo while - iteración: 1\n",
            "__________________________________________________\n",
            "1.- Continuar ciclo\n",
            "2.- Romper ciclo\n",
            "3.- Salir del ciclo\n",
            "4.- Repetir menú\n",
            "Otro número, Rastrear\n",
            "__________________________________________________\n",
            "Ingresa una opción: 1\n",
            "Continuar ciclo\n",
            "Bienvenido al ciclo while - iteración: 2\n",
            "__________________________________________________\n",
            "1.- Continuar ciclo\n",
            "2.- Romper ciclo\n",
            "3.- Salir del ciclo\n",
            "4.- Repetir menú\n",
            "Otro número, Rastrear\n",
            "__________________________________________________\n",
            "Ingresa una opción: 4\n",
            "Bienvenido al ciclo while - iteración: 2\n",
            "__________________________________________________\n",
            "1.- Continuar ciclo\n",
            "2.- Romper ciclo\n",
            "3.- Salir del ciclo\n",
            "4.- Repetir menú\n",
            "Otro número, Rastrear\n",
            "__________________________________________________\n",
            "Ingresa una opción: 5\n",
            "Bienvenido al ciclo while - iteración: 0\n",
            "__________________________________________________\n",
            "1.- Continuar ciclo\n",
            "2.- Romper ciclo\n",
            "3.- Salir del ciclo\n",
            "4.- Repetir menú\n",
            "Otro número, Rastrear\n",
            "__________________________________________________\n",
            "Ingresa una opción: 4\n",
            "Bienvenido al ciclo while - iteración: 0\n",
            "__________________________________________________\n",
            "1.- Continuar ciclo\n",
            "2.- Romper ciclo\n",
            "3.- Salir del ciclo\n",
            "4.- Repetir menú\n",
            "Otro número, Rastrear\n",
            "__________________________________________________\n",
            "Ingresa una opción: 2\n",
            "Ciclo roto\n",
            "__________________________________________________\n",
            "Adios!!!\n"
          ]
        }
      ]
    },
    {
      "cell_type": "markdown",
      "source": [
        "## Evaluación Sesión 05:"
      ],
      "metadata": {
        "id": "yGna1O7jVEYd"
      }
    },
    {
      "cell_type": "markdown",
      "source": [
        "###Ejercicio propuesto 5.05.\n",
        "Elaborar un programa que permita ingresar 7 valores por teclado y nos muestre posteriormente la suma de los valores ingresados y su promedio."
      ],
      "metadata": {
        "id": "e5C_eYzsVZyZ"
      }
    },
    {
      "cell_type": "code",
      "source": [
        "print('Suma de 7 valores')\n",
        "print('_'*50)\n",
        "x = 0\n",
        "y = 0\n",
        "while(x <= 6):\n",
        "  n = float(input('Introduce un número: '))\n",
        "  x = x + 1\n",
        "  y = y + n\n",
        "print('_'*50)\n",
        "z = y/7\n",
        "print(f'La suma de los números es {y}')\n",
        "print(f'El promedio de los números es {z}')"
      ],
      "metadata": {
        "id": "Nb5qJQi1WYSx",
        "colab": {
          "base_uri": "https://localhost:8080/"
        },
        "outputId": "0eb892c2-88d7-496f-dc4c-3a8bd312ff36"
      },
      "execution_count": null,
      "outputs": [
        {
          "output_type": "stream",
          "name": "stdout",
          "text": [
            "Suma de 7 valores\n",
            "__________________________________________________\n",
            "Introduce un número: 1\n",
            "Introduce un número: 2\n",
            "Introduce un número: 3\n",
            "Introduce un número: 4\n",
            "Introduce un número: 5\n",
            "Introduce un número: 6\n",
            "Introduce un número: 7\n",
            "__________________________________________________\n",
            "La suma de los números es 28.0\n",
            "El promedio de los números es 4.0\n"
          ]
        }
      ]
    },
    {
      "cell_type": "markdown",
      "source": [
        "###Ejercicio propuesto 5.06.\n",
        "Elaborar un programa que solicite un valor positivo y nos muestre desde 1 hasta el valor ingresado de uno en uno.\n",
        "\n",
        "Ejemplo: Si ingresamos 30 se debe mostrar en pantalla los números del 1 al 30.\n"
      ],
      "metadata": {
        "id": "O-W5KezvV3l3"
      }
    },
    {
      "cell_type": "code",
      "source": [
        "print('Contador hasta el número ingresado')\n",
        "print('_'*50)\n",
        "n = 1\n",
        "x = int(input('Ingresa un número mayor a uno: '))\n",
        "print('_'*50)\n",
        "if(x > n):\n",
        " while(n <= x):\n",
        "  print(n)\n",
        "  n = n + 1\n",
        " print('_'*50)\n",
        " print('Fin del programa')\n",
        "else:\n",
        "  print('Introduce un número mayor a 1 que sea positivo')"
      ],
      "metadata": {
        "colab": {
          "base_uri": "https://localhost:8080/"
        },
        "id": "xB1tjWc3VCMx",
        "outputId": "5e288015-d066-4e5d-ca77-bdfc5fde0712"
      },
      "execution_count": null,
      "outputs": [
        {
          "output_type": "stream",
          "name": "stdout",
          "text": [
            "Contador hasta el número ingresado\n",
            "__________________________________________________\n",
            "Ingresa un número mayor a uno: 50\n",
            "__________________________________________________\n",
            "1\n",
            "2\n",
            "3\n",
            "4\n",
            "5\n",
            "6\n",
            "7\n",
            "8\n",
            "9\n",
            "10\n",
            "11\n",
            "12\n",
            "13\n",
            "14\n",
            "15\n",
            "16\n",
            "17\n",
            "18\n",
            "19\n",
            "20\n",
            "21\n",
            "22\n",
            "23\n",
            "24\n",
            "25\n",
            "26\n",
            "27\n",
            "28\n",
            "29\n",
            "30\n",
            "31\n",
            "32\n",
            "33\n",
            "34\n",
            "35\n",
            "36\n",
            "37\n",
            "38\n",
            "39\n",
            "40\n",
            "41\n",
            "42\n",
            "43\n",
            "44\n",
            "45\n",
            "46\n",
            "47\n",
            "48\n",
            "49\n",
            "50\n",
            "__________________________________________________\n",
            "Fin del programa\n"
          ]
        }
      ]
    },
    {
      "cell_type": "markdown",
      "source": [
        "###Ejercicio propuesto 5.07.\n",
        "Elaborar un programa que pida un límite inferior y un límite superior e imprima todos los números que haya en ese rango de 3 en 3.\n"
      ],
      "metadata": {
        "id": "Y2zfgqxNV7Gt"
      }
    },
    {
      "cell_type": "code",
      "source": [
        "print('Límites de 3 en 3')\n",
        "print('_'*50)\n",
        "x1 = int(input('Ingresa un límite inferior: '))\n",
        "x2 = int(input('Ingresa un límite superior: '))\n",
        "print('_'*50)\n",
        "if(x2 > x1):\n",
        "  while(x1 <= x2):\n",
        "    print(x1)\n",
        "    x1 = x1 + 3\n",
        "  print('_'*50)\n",
        "  print('Fin del programa')\n",
        "else:\n",
        "  print('El segundo número debe de ser mayor al primero')"
      ],
      "metadata": {
        "colab": {
          "base_uri": "https://localhost:8080/"
        },
        "id": "9AYF6CCiV2aF",
        "outputId": "1bcb65fd-1b4e-4087-d60b-d25fbb1ca0f1"
      },
      "execution_count": null,
      "outputs": [
        {
          "output_type": "stream",
          "name": "stdout",
          "text": [
            "Límites de 3 en 3\n",
            "__________________________________________________\n",
            "Ingresa un límite inferior: 1\n",
            "Ingresa un límite superior: 60\n",
            "__________________________________________________\n",
            "1\n",
            "4\n",
            "7\n",
            "10\n",
            "13\n",
            "16\n",
            "19\n",
            "22\n",
            "25\n",
            "28\n",
            "31\n",
            "34\n",
            "37\n",
            "40\n",
            "43\n",
            "46\n",
            "49\n",
            "52\n",
            "55\n",
            "58\n",
            "__________________________________________________\n",
            "Fin del programa\n"
          ]
        }
      ]
    },
    {
      "cell_type": "markdown",
      "source": [],
      "metadata": {
        "id": "DiDw5NzYbPEX"
      }
    },
    {
      "cell_type": "markdown",
      "source": [
        "###Ejercicio propuesto 5.08.\n",
        "Elaborar un programa que pida un conjunto de 6 alturas de personas por teclado. Mostrar la altura promedio de las personas\n"
      ],
      "metadata": {
        "id": "mDeQw5PdV-CO"
      }
    },
    {
      "cell_type": "code",
      "source": [
        "print('Promedio de alturas')\n",
        "print('_'*50)\n",
        "x = 0\n",
        "y = 0\n",
        "while(x <= 5):\n",
        "  n = float(input('Introduce una altura: '))\n",
        "  x = x + 1\n",
        "  y = y + n\n",
        "print('_'*50)\n",
        "z = y/6\n",
        "print(f'El promedio de las alturas es: {z}')"
      ],
      "metadata": {
        "colab": {
          "base_uri": "https://localhost:8080/"
        },
        "id": "8zqU7t3_6zDn",
        "outputId": "7ef0674d-c910-4471-c366-e3c4d92c373d"
      },
      "execution_count": null,
      "outputs": [
        {
          "output_type": "stream",
          "name": "stdout",
          "text": [
            "Promedio de alturas\n",
            "__________________________________________________\n",
            "Introduce una altura: 2\n",
            "Introduce una altura: 1\n",
            "Introduce una altura: 2\n",
            "Introduce una altura: 1\n",
            "Introduce una altura: 2\n",
            "Introduce una altura: 1\n",
            "__________________________________________________\n",
            "El promedio de las alturas es: 1.5\n"
          ]
        }
      ]
    },
    {
      "cell_type": "markdown",
      "source": [
        "###Ejercicio propuesto 5.09.\n",
        "Elaborar un programa que pida enteros por teclado y sumarlos, finalizar cuando se ingrese un valor cero o se hayan cargado 10 valores, imprimir la sumatoria de los valores."
      ],
      "metadata": {
        "id": "aGiuJND-WDu4"
      }
    },
    {
      "cell_type": "code",
      "source": [
        "print('10 números o 0')\n",
        "print('_'*50)\n",
        "x = 0\n",
        "y = 0\n",
        "print('Si quieres detener el programa introduce 0')\n",
        "while(x <= 9):\n",
        "  n = int(input('Introduce un número entero: '))\n",
        "  x = x + 1\n",
        "  y = y + n\n",
        "  if(n == 0):\n",
        "    print('°°°°Detuviste el programa°°°°')\n",
        "    break\n",
        "print('_'*50)\n",
        "print(f'La suma de los números es {y}')\n"
      ],
      "metadata": {
        "colab": {
          "base_uri": "https://localhost:8080/"
        },
        "id": "0GF0wgvM9J7G",
        "outputId": "1b00d7a4-8261-4b6e-a277-8bb91a059a7c"
      },
      "execution_count": null,
      "outputs": [
        {
          "output_type": "stream",
          "name": "stdout",
          "text": [
            "10 números o 0\n",
            "__________________________________________________\n",
            "Si quieres detener el programa introduce 0\n",
            "Introduce un número entero: 4\n",
            "Introduce un número entero: 5\n",
            "Introduce un número entero: 6\n",
            "Introduce un número entero: 7\n",
            "Introduce un número entero: 0\n",
            "°°°°Detuviste el programa°°°°\n",
            "__________________________________________________\n",
            "La suma de los números es 22\n"
          ]
        }
      ]
    }
  ]
}